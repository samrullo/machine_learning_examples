{
 "cells": [
  {
   "cell_type": "code",
   "execution_count": 3,
   "metadata": {},
   "outputs": [],
   "source": [
    "import pandas as pd\n",
    "import numpy as np\n",
    "\n",
    "import matplotlib.pyplot as plt\n",
    "\n",
    "import itertools\n",
    "\n",
    "from sklearn.metrics import mean_squared_error\n",
    "from statsmodels.tsa.holtwinters import ExponentialSmoothing"
   ]
  },
  {
   "cell_type": "code",
   "execution_count": 4,
   "metadata": {},
   "outputs": [
    {
     "data": {
      "text/html": [
       "<div>\n",
       "<style scoped>\n",
       "    .dataframe tbody tr th:only-of-type {\n",
       "        vertical-align: middle;\n",
       "    }\n",
       "\n",
       "    .dataframe tbody tr th {\n",
       "        vertical-align: top;\n",
       "    }\n",
       "\n",
       "    .dataframe thead th {\n",
       "        text-align: right;\n",
       "    }\n",
       "</style>\n",
       "<table border=\"1\" class=\"dataframe\">\n",
       "  <thead>\n",
       "    <tr style=\"text-align: right;\">\n",
       "      <th></th>\n",
       "      <th>Passengers</th>\n",
       "    </tr>\n",
       "    <tr>\n",
       "      <th>Month</th>\n",
       "      <th></th>\n",
       "    </tr>\n",
       "  </thead>\n",
       "  <tbody>\n",
       "    <tr>\n",
       "      <th>1949-01-01</th>\n",
       "      <td>112</td>\n",
       "    </tr>\n",
       "    <tr>\n",
       "      <th>1949-02-01</th>\n",
       "      <td>118</td>\n",
       "    </tr>\n",
       "    <tr>\n",
       "      <th>1949-03-01</th>\n",
       "      <td>132</td>\n",
       "    </tr>\n",
       "    <tr>\n",
       "      <th>1949-04-01</th>\n",
       "      <td>129</td>\n",
       "    </tr>\n",
       "    <tr>\n",
       "      <th>1949-05-01</th>\n",
       "      <td>121</td>\n",
       "    </tr>\n",
       "  </tbody>\n",
       "</table>\n",
       "</div>"
      ],
      "text/plain": [
       "            Passengers\n",
       "Month                 \n",
       "1949-01-01         112\n",
       "1949-02-01         118\n",
       "1949-03-01         132\n",
       "1949-04-01         129\n",
       "1949-05-01         121"
      ]
     },
     "execution_count": 4,
     "metadata": {},
     "output_type": "execute_result"
    }
   ],
   "source": [
    "df = pd.read_csv(\"airline_passengers.csv\", index_col=\"Month\", parse_dates=True)\n",
    "df.index.freq = 'MS'\n",
    "df.head()"
   ]
  },
  {
   "cell_type": "code",
   "execution_count": 5,
   "metadata": {},
   "outputs": [
    {
     "data": {
      "text/plain": [
       "(144, 1)"
      ]
     },
     "execution_count": 5,
     "metadata": {},
     "output_type": "execute_result"
    }
   ],
   "source": [
    "df.shape"
   ]
  },
  {
   "cell_type": "code",
   "execution_count": 7,
   "metadata": {},
   "outputs": [
    {
     "name": "stdout",
     "output_type": "stream",
     "text": [
      "h is 12, steps is 10, Ntest is 123\n"
     ]
    }
   ],
   "source": [
    "# Assume the forecast horizon we care about is 12\n",
    "# Validate over 10 steps\n",
    "h = 12\n",
    "steps = 10\n",
    "Ntest = len(df) - h - steps + 1\n",
    "print(f\"h is {h}, steps is {steps}, Ntest is {Ntest}\")"
   ]
  },
  {
   "cell_type": "code",
   "execution_count": 9,
   "metadata": {},
   "outputs": [],
   "source": [
    "# configuration hyperparameters to try\n",
    "trend_type_list = [\"add\",\"mul\"]\n",
    "seasonal_type_list = [\"add\", \"mul\"]\n",
    "damped_trend_list = [True, False]\n",
    "init_method_list = [\"estimated\",\"heuristic\",\"legacy-heuristic\"]\n",
    "use_boxcox_list = [True, False, 0]"
   ]
  },
  {
   "cell_type": "code",
   "execution_count": 10,
   "metadata": {},
   "outputs": [],
   "source": [
    "def walkforward(trend_type, seasonal_type,damped_trend,init_method,use_boxcox,debug=False):\n",
    "    errors=[]\n",
    "    seen_last = False\n",
    "    steps_completed = 0\n",
    "\n",
    "    for end_of_train in range(Ntest,len(df)-h+1):\n",
    "        # we don't have to manually add the data to our dataset\n",
    "        # just index it at the right points - this is a view not a copy\n",
    "        # so it doesn't take up any extra space or computation\n",
    "        train = df.iloc[:end_of_train]\n",
    "        test = df.iloc[end_of_train : end_of_train + h]\n",
    "\n",
    "        if test.index[-1] == df.index[-1]:\n",
    "            seen_last = True\n",
    "        \n",
    "        steps_completed += 1\n",
    "\n",
    "        hw = ExponentialSmoothing(train[\"Passengers\"], initialization_method=init_method, trend=trend_type,damped_trend=damped_trend, seasonal=seasonal_type,seasonal_periods=12,use_boxcox=use_boxcox)\n",
    "        res_hw = hw.fit()\n",
    "\n",
    "        # compute error for the forecast horizon\n",
    "        fcast = res_hw.forecast(h)\n",
    "        error = mean_squared_error(test[\"Passengers\"],fcast)\n",
    "        errors.append(error)\n",
    "\n",
    "        if debug:\n",
    "            print(f\"seen_last : {seen_last}\")\n",
    "            print(f\"steps completed : {steps_completed}\")\n",
    "    \n",
    "    return np.mean(errors)"
   ]
  },
  {
   "cell_type": "code",
   "execution_count": 12,
   "metadata": {},
   "outputs": [
    {
     "name": "stdout",
     "output_type": "stream",
     "text": [
      "seen_last : False\n",
      "steps completed : 1\n",
      "seen_last : False\n",
      "steps completed : 2\n",
      "seen_last : False\n",
      "steps completed : 3\n",
      "seen_last : False\n",
      "steps completed : 4\n",
      "seen_last : False\n",
      "steps completed : 5\n",
      "seen_last : False\n",
      "steps completed : 6\n",
      "seen_last : False\n",
      "steps completed : 7\n",
      "seen_last : False\n",
      "steps completed : 8\n",
      "seen_last : False\n",
      "steps completed : 9\n",
      "seen_last : True\n",
      "steps completed : 10\n"
     ]
    },
    {
     "data": {
      "text/plain": [
       "1448.5322380644711"
      ]
     },
     "execution_count": 12,
     "metadata": {},
     "output_type": "execute_result"
    }
   ],
   "source": [
    "walkforward(\"add\",\"add\",False,\"legacy-heuristic\",0,debug=True)"
   ]
  },
  {
   "cell_type": "code",
   "execution_count": 13,
   "metadata": {},
   "outputs": [
    {
     "name": "stdout",
     "output_type": "stream",
     "text": [
      "('add', 'add', True, 'estimated', True)\n",
      "('add', 'add', True, 'estimated', False)\n",
      "('add', 'add', True, 'estimated', 0)\n",
      "('add', 'add', True, 'heuristic', True)\n",
      "('add', 'add', True, 'heuristic', False)\n",
      "('add', 'add', True, 'heuristic', 0)\n",
      "('add', 'add', True, 'legacy-heuristic', True)\n",
      "('add', 'add', True, 'legacy-heuristic', False)\n",
      "('add', 'add', True, 'legacy-heuristic', 0)\n",
      "('add', 'add', False, 'estimated', True)\n",
      "('add', 'add', False, 'estimated', False)\n",
      "('add', 'add', False, 'estimated', 0)\n",
      "('add', 'add', False, 'heuristic', True)\n",
      "('add', 'add', False, 'heuristic', False)\n",
      "('add', 'add', False, 'heuristic', 0)\n",
      "('add', 'add', False, 'legacy-heuristic', True)\n",
      "('add', 'add', False, 'legacy-heuristic', False)\n",
      "('add', 'add', False, 'legacy-heuristic', 0)\n",
      "('add', 'mul', True, 'estimated', True)\n",
      "('add', 'mul', True, 'estimated', False)\n",
      "('add', 'mul', True, 'estimated', 0)\n",
      "('add', 'mul', True, 'heuristic', True)\n",
      "('add', 'mul', True, 'heuristic', False)\n",
      "('add', 'mul', True, 'heuristic', 0)\n",
      "('add', 'mul', True, 'legacy-heuristic', True)\n",
      "('add', 'mul', True, 'legacy-heuristic', False)\n",
      "('add', 'mul', True, 'legacy-heuristic', 0)\n",
      "('add', 'mul', False, 'estimated', True)\n",
      "('add', 'mul', False, 'estimated', False)\n",
      "('add', 'mul', False, 'estimated', 0)\n",
      "('add', 'mul', False, 'heuristic', True)\n",
      "('add', 'mul', False, 'heuristic', False)\n",
      "('add', 'mul', False, 'heuristic', 0)\n",
      "('add', 'mul', False, 'legacy-heuristic', True)\n",
      "('add', 'mul', False, 'legacy-heuristic', False)\n",
      "('add', 'mul', False, 'legacy-heuristic', 0)\n",
      "('mul', 'add', True, 'estimated', True)\n",
      "('mul', 'add', True, 'estimated', False)\n",
      "('mul', 'add', True, 'estimated', 0)\n",
      "('mul', 'add', True, 'heuristic', True)\n",
      "('mul', 'add', True, 'heuristic', False)\n",
      "('mul', 'add', True, 'heuristic', 0)\n",
      "('mul', 'add', True, 'legacy-heuristic', True)\n",
      "('mul', 'add', True, 'legacy-heuristic', False)\n",
      "('mul', 'add', True, 'legacy-heuristic', 0)\n",
      "('mul', 'add', False, 'estimated', True)\n",
      "('mul', 'add', False, 'estimated', False)\n",
      "('mul', 'add', False, 'estimated', 0)\n",
      "('mul', 'add', False, 'heuristic', True)\n",
      "('mul', 'add', False, 'heuristic', False)\n",
      "('mul', 'add', False, 'heuristic', 0)\n",
      "('mul', 'add', False, 'legacy-heuristic', True)\n",
      "('mul', 'add', False, 'legacy-heuristic', False)\n",
      "('mul', 'add', False, 'legacy-heuristic', 0)\n",
      "('mul', 'mul', True, 'estimated', True)\n",
      "('mul', 'mul', True, 'estimated', False)\n",
      "('mul', 'mul', True, 'estimated', 0)\n",
      "('mul', 'mul', True, 'heuristic', True)\n",
      "('mul', 'mul', True, 'heuristic', False)\n",
      "('mul', 'mul', True, 'heuristic', 0)\n",
      "('mul', 'mul', True, 'legacy-heuristic', True)\n",
      "('mul', 'mul', True, 'legacy-heuristic', False)\n",
      "('mul', 'mul', True, 'legacy-heuristic', 0)\n",
      "('mul', 'mul', False, 'estimated', True)\n",
      "('mul', 'mul', False, 'estimated', False)\n",
      "('mul', 'mul', False, 'estimated', 0)\n",
      "('mul', 'mul', False, 'heuristic', True)\n",
      "('mul', 'mul', False, 'heuristic', False)\n",
      "('mul', 'mul', False, 'heuristic', 0)\n",
      "('mul', 'mul', False, 'legacy-heuristic', True)\n",
      "('mul', 'mul', False, 'legacy-heuristic', False)\n",
      "('mul', 'mul', False, 'legacy-heuristic', 0)\n"
     ]
    }
   ],
   "source": [
    "# iterate through all possible options\n",
    "tuple_of_option_lists = (trend_type_list,seasonal_type_list,damped_trend_list,init_method_list,use_boxcox_list)\n",
    "\n",
    "for x in itertools.product(*tuple_of_option_lists):\n",
    "    print(x)"
   ]
  },
  {
   "cell_type": "code",
   "execution_count": 15,
   "metadata": {},
   "outputs": [
    {
     "name": "stdout",
     "output_type": "stream",
     "text": [
      "best score so far : 412.8172176010753, with options : ('add', 'add', True, 'estimated', True)\n",
      "best score so far : 397.5872318721034, with options : ('add', 'add', True, 'heuristic', True)\n",
      "best score so far : 368.78748763006257, with options : ('add', 'add', True, 'legacy-heuristic', True)\n",
      "best score so far : 320.6640288427434, with options : ('add', 'add', False, 'estimated', True)\n",
      "best score so far : 308.1359664473358, with options : ('add', 'add', False, 'legacy-heuristic', True)\n"
     ]
    },
    {
     "name": "stderr",
     "output_type": "stream",
     "text": [
      "c:\\Users\\amrul\\programming\\python_environments\\dlenv_py39\\lib\\site-packages\\statsmodels\\tsa\\holtwinters\\model.py:83: RuntimeWarning: overflow encountered in matmul\n",
      "  return err.T @ err\n",
      "c:\\Users\\amrul\\programming\\python_environments\\dlenv_py39\\lib\\site-packages\\statsmodels\\tsa\\holtwinters\\model.py:83: RuntimeWarning: overflow encountered in matmul\n",
      "  return err.T @ err\n",
      "c:\\Users\\amrul\\programming\\python_environments\\dlenv_py39\\lib\\site-packages\\statsmodels\\tsa\\holtwinters\\model.py:83: RuntimeWarning: overflow encountered in matmul\n",
      "  return err.T @ err\n",
      "c:\\Users\\amrul\\programming\\python_environments\\dlenv_py39\\lib\\site-packages\\statsmodels\\tsa\\holtwinters\\model.py:83: RuntimeWarning: overflow encountered in matmul\n",
      "  return err.T @ err\n",
      "c:\\Users\\amrul\\programming\\python_environments\\dlenv_py39\\lib\\site-packages\\statsmodels\\tsa\\holtwinters\\model.py:83: RuntimeWarning: overflow encountered in matmul\n",
      "  return err.T @ err\n",
      "c:\\Users\\amrul\\programming\\python_environments\\dlenv_py39\\lib\\site-packages\\statsmodels\\tsa\\holtwinters\\model.py:83: RuntimeWarning: overflow encountered in matmul\n",
      "  return err.T @ err\n",
      "c:\\Users\\amrul\\programming\\python_environments\\dlenv_py39\\lib\\site-packages\\statsmodels\\tsa\\holtwinters\\model.py:83: RuntimeWarning: overflow encountered in matmul\n",
      "  return err.T @ err\n",
      "c:\\Users\\amrul\\programming\\python_environments\\dlenv_py39\\lib\\site-packages\\statsmodels\\tsa\\holtwinters\\model.py:83: RuntimeWarning: overflow encountered in matmul\n",
      "  return err.T @ err\n",
      "c:\\Users\\amrul\\programming\\python_environments\\dlenv_py39\\lib\\site-packages\\statsmodels\\tsa\\holtwinters\\model.py:83: RuntimeWarning: overflow encountered in matmul\n",
      "  return err.T @ err\n",
      "c:\\Users\\amrul\\programming\\python_environments\\dlenv_py39\\lib\\site-packages\\statsmodels\\tsa\\holtwinters\\model.py:83: RuntimeWarning: overflow encountered in matmul\n",
      "  return err.T @ err\n",
      "c:\\Users\\amrul\\programming\\python_environments\\dlenv_py39\\lib\\site-packages\\statsmodels\\tsa\\holtwinters\\model.py:83: RuntimeWarning: overflow encountered in matmul\n",
      "  return err.T @ err\n",
      "c:\\Users\\amrul\\programming\\python_environments\\dlenv_py39\\lib\\site-packages\\statsmodels\\tsa\\holtwinters\\model.py:83: RuntimeWarning: overflow encountered in matmul\n",
      "  return err.T @ err\n",
      "c:\\Users\\amrul\\programming\\python_environments\\dlenv_py39\\lib\\site-packages\\statsmodels\\tsa\\holtwinters\\model.py:83: RuntimeWarning: overflow encountered in matmul\n",
      "  return err.T @ err\n",
      "c:\\Users\\amrul\\programming\\python_environments\\dlenv_py39\\lib\\site-packages\\statsmodels\\tsa\\holtwinters\\model.py:83: RuntimeWarning: overflow encountered in matmul\n",
      "  return err.T @ err\n",
      "c:\\Users\\amrul\\programming\\python_environments\\dlenv_py39\\lib\\site-packages\\statsmodels\\tsa\\holtwinters\\model.py:83: RuntimeWarning: overflow encountered in matmul\n",
      "  return err.T @ err\n",
      "c:\\Users\\amrul\\programming\\python_environments\\dlenv_py39\\lib\\site-packages\\statsmodels\\tsa\\holtwinters\\model.py:83: RuntimeWarning: overflow encountered in matmul\n",
      "  return err.T @ err\n",
      "c:\\Users\\amrul\\programming\\python_environments\\dlenv_py39\\lib\\site-packages\\statsmodels\\tsa\\holtwinters\\model.py:83: RuntimeWarning: overflow encountered in matmul\n",
      "  return err.T @ err\n",
      "c:\\Users\\amrul\\programming\\python_environments\\dlenv_py39\\lib\\site-packages\\statsmodels\\tsa\\holtwinters\\model.py:83: RuntimeWarning: overflow encountered in matmul\n",
      "  return err.T @ err\n",
      "c:\\Users\\amrul\\programming\\python_environments\\dlenv_py39\\lib\\site-packages\\statsmodels\\tsa\\holtwinters\\model.py:83: RuntimeWarning: overflow encountered in matmul\n",
      "  return err.T @ err\n",
      "c:\\Users\\amrul\\programming\\python_environments\\dlenv_py39\\lib\\site-packages\\statsmodels\\tsa\\holtwinters\\model.py:83: RuntimeWarning: overflow encountered in matmul\n",
      "  return err.T @ err\n",
      "c:\\Users\\amrul\\programming\\python_environments\\dlenv_py39\\lib\\site-packages\\statsmodels\\tsa\\holtwinters\\model.py:83: RuntimeWarning: overflow encountered in matmul\n",
      "  return err.T @ err\n"
     ]
    },
    {
     "name": "stdout",
     "output_type": "stream",
     "text": [
      "best score so far : 302.51546652792945, with options : ('mul', 'add', False, 'estimated', False)\n",
      "best score so far : 299.82254446452646, with options : ('mul', 'add', False, 'heuristic', True)\n",
      "best score so far : 261.88562598395254, with options : ('mul', 'add', False, 'heuristic', False)\n",
      "best score so far : 249.5890588815454, with options : ('mul', 'add', False, 'legacy-heuristic', False)\n"
     ]
    },
    {
     "name": "stderr",
     "output_type": "stream",
     "text": [
      "c:\\Users\\amrul\\programming\\python_environments\\dlenv_py39\\lib\\site-packages\\statsmodels\\tsa\\holtwinters\\model.py:83: RuntimeWarning: overflow encountered in matmul\n",
      "  return err.T @ err\n",
      "c:\\Users\\amrul\\programming\\python_environments\\dlenv_py39\\lib\\site-packages\\statsmodels\\tsa\\holtwinters\\model.py:83: RuntimeWarning: overflow encountered in matmul\n",
      "  return err.T @ err\n",
      "c:\\Users\\amrul\\programming\\python_environments\\dlenv_py39\\lib\\site-packages\\statsmodels\\tsa\\holtwinters\\model.py:83: RuntimeWarning: overflow encountered in matmul\n",
      "  return err.T @ err\n",
      "c:\\Users\\amrul\\programming\\python_environments\\dlenv_py39\\lib\\site-packages\\statsmodels\\tsa\\holtwinters\\model.py:83: RuntimeWarning: overflow encountered in matmul\n",
      "  return err.T @ err\n",
      "c:\\Users\\amrul\\programming\\python_environments\\dlenv_py39\\lib\\site-packages\\statsmodels\\tsa\\holtwinters\\model.py:83: RuntimeWarning: overflow encountered in matmul\n",
      "  return err.T @ err\n",
      "c:\\Users\\amrul\\programming\\python_environments\\dlenv_py39\\lib\\site-packages\\statsmodels\\tsa\\holtwinters\\model.py:83: RuntimeWarning: overflow encountered in matmul\n",
      "  return err.T @ err\n",
      "c:\\Users\\amrul\\programming\\python_environments\\dlenv_py39\\lib\\site-packages\\statsmodels\\tsa\\holtwinters\\model.py:83: RuntimeWarning: overflow encountered in matmul\n",
      "  return err.T @ err\n",
      "c:\\Users\\amrul\\programming\\python_environments\\dlenv_py39\\lib\\site-packages\\statsmodels\\tsa\\holtwinters\\model.py:83: RuntimeWarning: overflow encountered in matmul\n",
      "  return err.T @ err\n",
      "c:\\Users\\amrul\\programming\\python_environments\\dlenv_py39\\lib\\site-packages\\statsmodels\\tsa\\holtwinters\\model.py:83: RuntimeWarning: overflow encountered in matmul\n",
      "  return err.T @ err\n",
      "c:\\Users\\amrul\\programming\\python_environments\\dlenv_py39\\lib\\site-packages\\statsmodels\\tsa\\holtwinters\\model.py:83: RuntimeWarning: overflow encountered in matmul\n",
      "  return err.T @ err\n",
      "c:\\Users\\amrul\\programming\\python_environments\\dlenv_py39\\lib\\site-packages\\statsmodels\\tsa\\holtwinters\\model.py:83: RuntimeWarning: overflow encountered in matmul\n",
      "  return err.T @ err\n",
      "c:\\Users\\amrul\\programming\\python_environments\\dlenv_py39\\lib\\site-packages\\statsmodels\\tsa\\holtwinters\\model.py:83: RuntimeWarning: overflow encountered in matmul\n",
      "  return err.T @ err\n",
      "c:\\Users\\amrul\\programming\\python_environments\\dlenv_py39\\lib\\site-packages\\statsmodels\\tsa\\holtwinters\\model.py:83: RuntimeWarning: overflow encountered in matmul\n",
      "  return err.T @ err\n",
      "c:\\Users\\amrul\\programming\\python_environments\\dlenv_py39\\lib\\site-packages\\statsmodels\\tsa\\holtwinters\\model.py:83: RuntimeWarning: overflow encountered in matmul\n",
      "  return err.T @ err\n",
      "c:\\Users\\amrul\\programming\\python_environments\\dlenv_py39\\lib\\site-packages\\statsmodels\\tsa\\holtwinters\\model.py:83: RuntimeWarning: overflow encountered in matmul\n",
      "  return err.T @ err\n",
      "c:\\Users\\amrul\\programming\\python_environments\\dlenv_py39\\lib\\site-packages\\statsmodels\\tsa\\holtwinters\\model.py:83: RuntimeWarning: overflow encountered in matmul\n",
      "  return err.T @ err\n",
      "c:\\Users\\amrul\\programming\\python_environments\\dlenv_py39\\lib\\site-packages\\statsmodels\\tsa\\holtwinters\\model.py:83: RuntimeWarning: overflow encountered in matmul\n",
      "  return err.T @ err\n",
      "c:\\Users\\amrul\\programming\\python_environments\\dlenv_py39\\lib\\site-packages\\statsmodels\\tsa\\holtwinters\\model.py:83: RuntimeWarning: overflow encountered in matmul\n",
      "  return err.T @ err\n",
      "c:\\Users\\amrul\\programming\\python_environments\\dlenv_py39\\lib\\site-packages\\statsmodels\\tsa\\holtwinters\\model.py:83: RuntimeWarning: overflow encountered in matmul\n",
      "  return err.T @ err\n",
      "c:\\Users\\amrul\\programming\\python_environments\\dlenv_py39\\lib\\site-packages\\statsmodels\\tsa\\holtwinters\\model.py:83: RuntimeWarning: overflow encountered in matmul\n",
      "  return err.T @ err\n",
      "c:\\Users\\amrul\\programming\\python_environments\\dlenv_py39\\lib\\site-packages\\statsmodels\\tsa\\holtwinters\\model.py:83: RuntimeWarning: overflow encountered in matmul\n",
      "  return err.T @ err\n"
     ]
    }
   ],
   "source": [
    "best_score = float(\"inf\")\n",
    "best_options = None\n",
    "\n",
    "for x in itertools.product(*tuple_of_option_lists):\n",
    "    score = walkforward(*x)\n",
    "\n",
    "    if score < best_score:\n",
    "        best_score = score\n",
    "        best_options = x\n",
    "        print(f\"best score so far : {best_score}, with options : {best_options}\")\n"
   ]
  },
  {
   "cell_type": "code",
   "execution_count": 17,
   "metadata": {},
   "outputs": [
    {
     "name": "stdout",
     "output_type": "stream",
     "text": [
      "best score is 249.5890588815454\n",
      "trend type : mul\n",
      "seasonal type : add\n",
      "damped_trend : False\n",
      "initialization_method : legacy-heuristic\n",
      "use boxcox : False\n"
     ]
    }
   ],
   "source": [
    "print(f\"best score is {best_score}\")\n",
    "trend_type,seasonal_type,damped_trend,init_method,use_boxcox=best_options\n",
    "print(f\"trend type : {trend_type}\")\n",
    "print(f\"seasonal type : {seasonal_type}\")\n",
    "print(f\"damped_trend : {damped_trend}\")\n",
    "print(f\"initialization_method : {init_method}\")\n",
    "print(f\"use boxcox : {use_boxcox}\")"
   ]
  }
 ],
 "metadata": {
  "kernelspec": {
   "display_name": "dlenv_py39",
   "language": "python",
   "name": "python3"
  },
  "language_info": {
   "codemirror_mode": {
    "name": "ipython",
    "version": 3
   },
   "file_extension": ".py",
   "mimetype": "text/x-python",
   "name": "python",
   "nbconvert_exporter": "python",
   "pygments_lexer": "ipython3",
   "version": "3.9.7"
  }
 },
 "nbformat": 4,
 "nbformat_minor": 2
}
