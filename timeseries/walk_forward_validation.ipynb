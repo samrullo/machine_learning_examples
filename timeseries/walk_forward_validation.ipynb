{
 "cells": [
  {
   "cell_type": "code",
   "execution_count": null,
   "metadata": {},
   "outputs": [],
   "source": [
    "import pandas as pd\n",
    "import numpy as np\n",
    "\n",
    "import matplotlib.pyplot as plt\n",
    "\n",
    "import itertools\n",
    "\n",
    "from sklearn.metrics import mean_squared_error\n",
    "from statsmodels.tsa.holtwinters import ExponentialSmoothing"
   ]
  },
  {
   "cell_type": "code",
   "execution_count": null,
   "metadata": {},
   "outputs": [],
   "source": [
    "df = pd.read_csv(\"airline_passengers.csv\", index_col=\"Month\", parse_dates=True)\n",
    "df.index.freq = 'MS'\n",
    "df.head()"
   ]
  },
  {
   "cell_type": "code",
   "execution_count": null,
   "metadata": {},
   "outputs": [],
   "source": [
    "df.shape"
   ]
  },
  {
   "cell_type": "code",
   "execution_count": null,
   "metadata": {},
   "outputs": [],
   "source": [
    "# Assume the forecast horizon we care about is 12\n",
    "# Validate over 10 steps\n",
    "h = 12\n",
    "steps = 10\n",
    "Ntest = len(df) - h - steps + 1\n",
    "print(f\"h is {h}, steps is {steps}, Ntest is {Ntest}\")"
   ]
  },
  {
   "cell_type": "code",
   "execution_count": null,
   "metadata": {},
   "outputs": [],
   "source": [
    "# configuration hyperparameters to try\n",
    "trend_type_list = [\"add\",\"mul\"]\n",
    "seasonal_type_list = [\"add\", \"mul\"]\n",
    "damped_trend_list = [True, False]\n",
    "init_method_list = [\"estimated\",\"heuristic\",\"legacy-heuristic\"]\n",
    "use_boxcox_list = [True, False, 0]"
   ]
  },
  {
   "cell_type": "code",
   "execution_count": null,
   "metadata": {},
   "outputs": [],
   "source": [
    "def walkforward(trend_type, seasonal_type,damped_trend,init_method,use_boxcox,debug=False):\n",
    "    errors=[]\n",
    "    seen_last = False\n",
    "    steps_completed = 0\n",
    "\n",
    "    for end_of_train in range(Ntest,len(df)-h+1):\n",
    "        # we don't have to manually add the data to our dataset\n",
    "        # just index it at the right points - this is a view not a copy\n",
    "        # so it doesn't take up any extra space or computation\n",
    "        train = df.iloc[:end_of_train]\n",
    "        test = df.iloc[end_of_train : end_of_train + h]\n",
    "\n",
    "        if test.index[-1] == df.index[-1]:\n",
    "            seen_last = True\n",
    "        \n",
    "        steps_completed += 1\n",
    "\n",
    "        hw = ExponentialSmoothing(train[\"Passengers\"], initialization_method=init_method, trend=trend_type,damped_trend=damped_trend, seasonal=seasonal_type,seasonal_periods=12,use_boxcox=use_boxcox)\n",
    "        res_hw = hw.fit()\n",
    "\n",
    "        # compute error for the forecast horizon\n",
    "        fcast = res_hw.forecast(h)\n",
    "        error = mean_squared_error(test[\"Passengers\"],fcast)\n",
    "        errors.append(error)\n",
    "\n",
    "        if debug:\n",
    "            print(f\"seen_last : {seen_last}\")\n",
    "            print(f\"steps completed : {steps_completed}\")\n",
    "    \n",
    "    return np.mean(errors)"
   ]
  },
  {
   "cell_type": "code",
   "execution_count": null,
   "metadata": {},
   "outputs": [],
   "source": [
    "walkforward(\"add\",\"add\",False,\"legacy-heuristic\",0,debug=True)"
   ]
  },
  {
   "cell_type": "code",
   "execution_count": null,
   "metadata": {},
   "outputs": [],
   "source": [
    "# iterate through all possible options\n",
    "tuple_of_option_lists = (trend_type_list,seasonal_type_list,damped_trend_list,init_method_list,use_boxcox_list)\n",
    "\n",
    "for x in itertools.product(*tuple_of_option_lists):\n",
    "    print(x)"
   ]
  },
  {
   "cell_type": "code",
   "execution_count": null,
   "metadata": {},
   "outputs": [],
   "source": [
    "best_score = float(\"inf\")\n",
    "best_options = None\n",
    "\n",
    "for x in itertools.product(*tuple_of_option_lists):\n",
    "    score = walkforward(*x)\n",
    "\n",
    "    if score < best_score:\n",
    "        best_score = score\n",
    "        best_options = x\n",
    "        print(f\"best score so far : {best_score}, with options : {best_options}\")\n"
   ]
  },
  {
   "cell_type": "code",
   "execution_count": null,
   "metadata": {},
   "outputs": [],
   "source": [
    "print(f\"best score is {best_score}\")\n",
    "trend_type,seasonal_type,damped_trend,init_method,use_boxcox=best_options\n",
    "print(f\"trend type : {trend_type}\")\n",
    "print(f\"seasonal type : {seasonal_type}\")\n",
    "print(f\"damped_trend : {damped_trend}\")\n",
    "print(f\"initialization_method : {init_method}\")\n",
    "print(f\"use boxcox : {use_boxcox}\")"
   ]
  }
 ],
 "metadata": {
  "kernelspec": {
   "display_name": "dlenv_py39",
   "language": "python",
   "name": "python3"
  },
  "language_info": {
   "codemirror_mode": {
    "name": "ipython",
    "version": 3
   },
   "file_extension": ".py",
   "mimetype": "text/x-python",
   "name": "python",
   "nbconvert_exporter": "python",
   "pygments_lexer": "ipython3",
   "version": "3.9.7"
  }
 },
 "nbformat": 4,
 "nbformat_minor": 2
}
